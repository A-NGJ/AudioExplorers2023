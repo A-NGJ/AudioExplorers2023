{
  "nbformat": 4,
  "nbformat_minor": 0,
  "metadata": {
    "colab": {
      "provenance": [],
      "authorship_tag": "ABX9TyPO5pSsybfIZSfPuKPTJe6i",
      "include_colab_link": true
    },
    "kernelspec": {
      "name": "python3",
      "display_name": "Python 3"
    },
    "language_info": {
      "name": "python"
    }
  },
  "cells": [
    {
      "cell_type": "markdown",
      "metadata": {
        "id": "view-in-github",
        "colab_type": "text"
      },
      "source": [
        "<a href=\"https://colab.research.google.com/github/A-NGJ/AudioExplorers2023/blob/main/AudioExplorers2023_CNN.ipynb\" target=\"_parent\"><img src=\"https://colab.research.google.com/assets/colab-badge.svg\" alt=\"Open In Colab\"/></a>"
      ]
    },
    {
      "cell_type": "code",
      "execution_count": null,
      "metadata": {
        "id": "FF8p8jSFFUBx"
      },
      "outputs": [],
      "source": [
        "import numpy as np\n",
        "import tensorflow as tf\n",
        "from sklearn.model_selection import train_test_split\n",
        "import cv2\n",
        "\n",
        "def resize_data(data):\n",
        "    resized_data = np.zeros((data.shape[0], 32, 96))\n",
        "    max_pixel_value = data.max()\n",
        "    min_pixel_value = data.min()\n",
        "    for i, img in enumerate(data):\n",
        "        resized_img = cv2.resize(img, (96, 32))\n",
        "        resized_img = (resized_img - min_pixel_value) / (max_pixel_value - min_pixel_value)  # Normalize pixel values to [0, 1]\n",
        "        resized_data[i] = resized_img\n",
        "    return resized_data\n",
        "\n",
        "# # Load the data\n",
        "# data = np.load(\"training.npy\")\n",
        "# labels = np.load(\"training_labels.npy\")\n",
        "\n",
        "# # data = resize_data(data)\n",
        "\n",
        "# # Split the data into training and validation sets\n",
        "# X_train, X_val, y_train, y_val = train_test_split(data, labels, test_size=0.2, random_state=42)\n",
        "# Load data\n",
        "X = np.load('training.npy')\n",
        "y = np.load('training_labels.npy')\n",
        "\n",
        "train_ratio = 0.70\n",
        "validation_ratio = 0.15\n",
        "test_ratio = 0.15\n",
        "\n",
        "# train is now 70% of the entire data set\n",
        "X_train, X_test, y_train, y_test = train_test_split(X, y, test_size=1 - train_ratio, random_state=1)\n",
        "\n",
        "# test is now 15% of the initial data set\n",
        "# validation is now 15% of the initial data set\n",
        "X_val, X_test, y_test, y_val = train_test_split(X_test, y_test, test_size=test_ratio/(test_ratio + validation_ratio), random_state=1)\n",
        "\n",
        "\n",
        "X_train = np.load(\"X_train_aug.npy\")\n",
        "y_train = np.load(\"y_train_aug.npy\")\n",
        "# Preprocess the data\n",
        "# X_train = X_train.astype(\"float32\")\n",
        "# X_val = X_val.astype(\"float32\") \n",
        "\n",
        "# One-hot encode the labels\n",
        "y_train = tf.keras.utils.to_categorical(y_train, num_classes=5)\n",
        "y_val = tf.keras.utils.to_categorical(y_val, num_classes=5)\n",
        "\n",
        "# Define the CNN architecture\n",
        "model = tf.keras.Sequential([\n",
        "    # tf.keras.layers.Conv2D(32, (3, 3), activation='relu', input_shape=(32, 96, 1)),\n",
        "    # tf.keras.layers.MaxPooling2D((2, 2)),\n",
        "    # tf.keras.layers.Conv2D(64, (3, 3), activation='relu'),\n",
        "    # tf.keras.layers.MaxPooling2D((2, 2)),\n",
        "    # tf.keras.layers.Flatten(),\n",
        "    # tf.keras.layers.Dense(64, activation='relu'),\n",
        "    # tf.keras.layers.Dense(5, activation='softmax')\n",
        "    tf.keras.layers.Conv2D(32, (3, 3), activation='relu', input_shape=(32, 96, 1)),\n",
        "    tf.keras.layers.BatchNormalization(),\n",
        "    tf.keras.layers.MaxPooling2D((2, 2)),\n",
        "    tf.keras.layers.Conv2D(64, (3, 3), activation='relu'),\n",
        "    tf.keras.layers.BatchNormalization(),\n",
        "    tf.keras.layers.MaxPooling2D((2, 2)),\n",
        "    tf.keras.layers.Conv2D(128, (3, 3), activation='relu'),\n",
        "    tf.keras.layers.BatchNormalization(),\n",
        "    tf.keras.layers.MaxPooling2D((2, 2)),\n",
        "    tf.keras.layers.Flatten(),\n",
        "    tf.keras.layers.Dense(128, activation='relu'),\n",
        "    tf.keras.layers.Dropout(0.5),\n",
        "    tf.keras.layers.Dense(5, activation='softmax')\n",
        "])\n",
        "\n",
        "# Compile the model\n",
        "model.compile(optimizer='adam', loss='categorical_crossentropy', metrics=['accuracy'])\n",
        "\n",
        "# Train the model\n",
        "model.fit(X_train, y_train, batch_size=32, epochs=10, validation_data=(X_val, y_val))\n",
        "\n",
        "# Save the trained model\n",
        "model.save(\"sound_classifier_CNN_Augmentedd.h5\")\n"
      ]
    }
  ]
}