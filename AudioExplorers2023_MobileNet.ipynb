{
  "nbformat": 4,
  "nbformat_minor": 0,
  "metadata": {
    "colab": {
      "provenance": [],
      "authorship_tag": "ABX9TyNwSfnjxGBAsuSVQmE+hVR/",
      "include_colab_link": true
    },
    "kernelspec": {
      "name": "python3",
      "display_name": "Python 3"
    },
    "language_info": {
      "name": "python"
    }
  },
  "cells": [
    {
      "cell_type": "markdown",
      "metadata": {
        "id": "view-in-github",
        "colab_type": "text"
      },
      "source": [
        "<a href=\"https://colab.research.google.com/github/A-NGJ/AudioExplorers2023/blob/main/AudioExplorers2023_MobileNet.ipynb\" target=\"_parent\"><img src=\"https://colab.research.google.com/assets/colab-badge.svg\" alt=\"Open In Colab\"/></a>"
      ]
    },
    {
      "cell_type": "code",
      "execution_count": null,
      "metadata": {
        "id": "ubKpyjsBSgYF"
      },
      "outputs": [],
      "source": [
        "import numpy as np\n",
        "from sklearn.model_selection import train_test_split\n",
        "from tensorflow.keras import layers, models, optimizers, callbacks\n",
        "from tensorflow.keras.applications import MobileNet\n",
        "from tensorflow.keras.utils import to_categorical\n",
        "import tensorflow_addons as tfa\n",
        "import cv2\n",
        "\n",
        "from sklearn.metrics import f1_score, precision_score, recall_score, accuracy_score\n",
        "from tensorflow.keras.preprocessing.image import ImageDataGenerator\n",
        "\n",
        "datagen = ImageDataGenerator(\n",
        "    rotation_range=10,\n",
        "    width_shift_range=0.1,\n",
        "    height_shift_range=0.1,\n",
        "    zoom_range=0.1,\n",
        "    horizontal_flip=True,\n",
        ")\n",
        "\n",
        "\n",
        "class MetricsAtEndOfEpoch(callbacks.Callback):\n",
        "    def __init__(self, validation_data):\n",
        "        super().__init__()\n",
        "        self.validation_data = validation_data\n",
        "\n",
        "    def on_epoch_end(self, epoch, logs=None):\n",
        "        logs = logs or {}\n",
        "        val_predict = np.argmax(self.model.predict(self.validation_data[0]), axis=-1)\n",
        "        val_true = np.argmax(self.validation_data[1], axis=-1)\n",
        "        f1 = f1_score(val_true, val_predict, average='weighted')\n",
        "        precision = precision_score(val_true, val_predict, average='weighted')\n",
        "        recall = recall_score(val_true, val_predict, average='weighted')\n",
        "        accuracy = accuracy_score(val_true, val_predict)\n",
        "        print(f\"End of epoch {epoch}: Accuracy: {accuracy}, F1 Score: {f1}, Precision: {precision}, Recall: {recall}\\n\")\n",
        "\n",
        "\n",
        "\n",
        "def resize_data(data):\n",
        "    resized_data = np.zeros((data.shape[0], 32, 96, 3))\n",
        "    for i, img in enumerate(data):\n",
        "        resized_img = cv2.resize(img, (96, 32))\n",
        "        resized_data[i] = np.stack((resized_img, resized_img, resized_img), axis=-1)\n",
        "    return resized_data\n",
        "\n",
        "# Load data\n",
        "X = np.load('training.npy')\n",
        "y = np.load('training_labels.npy')\n",
        "\n",
        "# Preprocess input data\n",
        "X = resize_data(X)\n",
        "\n",
        "# Train-validation split\n",
        "X_train, X_val, y_train, y_val = train_test_split(X, y, test_size=0.2, random_state=42)\n",
        "datagen.fit(X_train)\n",
        "\n",
        "# One-hot encode labels\n",
        "num_classes = 5\n",
        "y_train = to_categorical(y_train, num_classes=num_classes)\n",
        "y_val = to_categorical(y_val, num_classes=num_classes)\n",
        "\n",
        "# Load MobileNet without the top classification layer and set input shape\n",
        "base_model = MobileNet(include_top=False, input_shape=(32, 96, 3), weights='imagenet')\n",
        "\n",
        "# Add a custom classification layer\n",
        "x = base_model.output\n",
        "x = layers.GlobalAveragePooling2D()(x)\n",
        "x = layers.Dense(128, activation='relu')(x)\n",
        "predictions = layers.Dense(num_classes, activation='softmax')(x)\n",
        "\n",
        "model = models.Model(inputs=base_model.input, outputs=predictions)\n",
        "\n",
        "# Freeze the base model layers\n",
        "for layer in base_model.layers:\n",
        "    layer.trainable = False\n",
        "\n",
        "# Fine-tuning: Unfreeze the top 30 layers of the base model\n",
        "for layer in base_model.layers[:-30]:\n",
        "    layer.trainable = False\n",
        "for layer in base_model.layers[-30:]:\n",
        "    layer.trainable = True\n",
        "\n",
        "# Compile the model\n",
        "model.compile(optimizer=optimizers.Adam(learning_rate=0.001), loss='categorical_crossentropy', metrics=['accuracy'])\n",
        "\n",
        "# Train the model\n",
        "model.fit(datagen.flow(X_train, y_train, batch_size=32), validation_data=(X_val, y_val), epochs=10, steps_per_epoch=len(X_train) // 32, callbacks=[MetricsAtEndOfEpoch(validation_data=(X_val, y_val))])\n",
        "\n",
        "# Save the model\n",
        "model.save('music_detector_mobilenet_5_classes_augmented.h5')\n"
      ]
    }
  ]
}