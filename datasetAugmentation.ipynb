{
  "nbformat": 4,
  "nbformat_minor": 0,
  "metadata": {
    "colab": {
      "provenance": [],
      "authorship_tag": "ABX9TyNH+e0ZFBkCFK/aooNPr2If",
      "include_colab_link": true
    },
    "kernelspec": {
      "name": "python3",
      "display_name": "Python 3"
    },
    "language_info": {
      "name": "python"
    }
  },
  "cells": [
    {
      "cell_type": "markdown",
      "metadata": {
        "id": "view-in-github",
        "colab_type": "text"
      },
      "source": [
        "<a href=\"https://colab.research.google.com/github/A-NGJ/AudioExplorers2023/blob/main/datasetAugmentation.ipynb\" target=\"_parent\"><img src=\"https://colab.research.google.com/assets/colab-badge.svg\" alt=\"Open In Colab\"/></a>"
      ]
    },
    {
      "cell_type": "code",
      "execution_count": null,
      "metadata": {
        "id": "m0ZU-gISyEw4"
      },
      "outputs": [],
      "source": [
        "import augment\n",
        "import numpy as np\n",
        "from sklearn.model_selection import train_test_split\n",
        "from tqdm import tqdm\n",
        "\n",
        "# Load data\n",
        "X = np.load('training.npy')\n",
        "y = np.load('training_labels.npy')\n",
        "\n",
        "train_ratio = 0.70\n",
        "validation_ratio = 0.15\n",
        "test_ratio = 0.15\n",
        "\n",
        "# train is now 70% of the entire data set\n",
        "X_train, X_test, y_train, y_test = train_test_split(X, y, test_size=1 - train_ratio, random_state=1)\n",
        "\n",
        "# test is now 15% of the initial data set\n",
        "# validation is now 15% of the initial data set\n",
        "X_val, X_test, y_test, y_val = train_test_split(X_test, y_test, test_size=test_ratio/(test_ratio + validation_ratio), random_state=1)\n",
        "\n",
        "# print(X_train.shape[0])\n",
        "# print(X_val.shape[0])\n",
        "# print(X_test.shape[0])\n",
        "# print(y_train.shape[0])\n",
        "# print(y_val.shape[0])\n",
        "# print(y_test.shape[0])\n",
        "\n",
        "X_train_aug = []\n",
        "y_train_aug = []\n",
        "sample = np.zeros((32, 96))\n",
        "\n",
        "# Augmenting the data\n",
        "for x in tqdm(range(0, y_train.shape[0]), desc=\"Processing\"):\n",
        "    sample_time_shift = augment.time_shift(sample, shift_range=0.2) \n",
        "    sample_time_stretch = augment.time_stretch(sample)\n",
        "    sample_pitch_shift = augment.pitch_shift(sample)\n",
        "    sample_noise = augment.add_noise(sample)\n",
        "    # print(y_train[x])\n",
        "\n",
        "    sample = X_train[x][:][:]\n",
        "    X_train_aug.append(sample)\n",
        "    X_train_aug.append(sample_time_shift)\n",
        "    X_train_aug.append(sample_time_stretch)\n",
        "    X_train_aug.append(sample_pitch_shift)\n",
        "    X_train_aug.append(sample_noise)\n",
        "\n",
        "    # append labels - the same amount of .append as above\n",
        "    y_train_aug.append(y_train[x])\n",
        "    y_train_aug.append(y_train[x])\n",
        "    y_train_aug.append(y_train[x])\n",
        "    y_train_aug.append(y_train[x])\n",
        "    y_train_aug.append(y_train[x])\n",
        "\n",
        "print(X_train.shape)\n",
        "X_train_aug = np.array(X_train_aug)\n",
        "print(X_train_aug.shape)\n",
        "\n",
        "y_train_aug = np.array(y_train_aug)\n",
        "\n",
        "with open('X_train_aug2.npy', 'wb') as f:\n",
        "    np.save(f, X_train_aug)\n",
        "print('X train SAVED')\n",
        "with open('y_train_aug2.npy', 'wb') as f:\n",
        "    np.save(f, y_train_aug)\n",
        "print('Y train SAVED')\n",
        "print(X_train_aug.shape)\n",
        "print(y_train_aug.shape)"
      ]
    }
  ]
}